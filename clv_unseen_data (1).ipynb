{
 "cells": [
  {
   "cell_type": "markdown",
   "metadata": {},
   "source": [
    "# <center>New Unseen Data Prediction Regression</center>\n",
    "---\n",
    "\n",
    "<center>Al Azhary Putera Satria</center>"
   ]
  },
  {
   "cell_type": "code",
   "execution_count": 1,
   "metadata": {},
   "outputs": [],
   "source": [
    "# Run locally & on the cloud\n",
    "import pandas as pd\n",
    "import numpy as np\n",
    "import pickle\n",
    "from xgboost import XGBRegressor"
   ]
  },
  {
   "cell_type": "code",
   "execution_count": 11,
   "metadata": {},
   "outputs": [
    {
     "data": {
      "text/html": [
       "<div>\n",
       "<style scoped>\n",
       "    .dataframe tbody tr th:only-of-type {\n",
       "        vertical-align: middle;\n",
       "    }\n",
       "\n",
       "    .dataframe tbody tr th {\n",
       "        vertical-align: top;\n",
       "    }\n",
       "\n",
       "    .dataframe thead th {\n",
       "        text-align: right;\n",
       "    }\n",
       "</style>\n",
       "<table border=\"1\" class=\"dataframe\">\n",
       "  <thead>\n",
       "    <tr style=\"text-align: right;\">\n",
       "      <th></th>\n",
       "      <th>Type</th>\n",
       "      <th>Region</th>\n",
       "      <th>Make</th>\n",
       "      <th>Gear_Type</th>\n",
       "      <th>Origin</th>\n",
       "      <th>Options</th>\n",
       "      <th>Year</th>\n",
       "      <th>Engine_Size</th>\n",
       "      <th>Mileage</th>\n",
       "      <th>Negotiable</th>\n",
       "      <th>Country_make</th>\n",
       "      <th>Condition</th>\n",
       "    </tr>\n",
       "  </thead>\n",
       "  <tbody>\n",
       "    <tr>\n",
       "      <th>0</th>\n",
       "      <td>Sedan</td>\n",
       "      <td>North America</td>\n",
       "      <td>Toyota</td>\n",
       "      <td>Automatic</td>\n",
       "      <td>Japan</td>\n",
       "      <td>Basic</td>\n",
       "      <td>2022</td>\n",
       "      <td>2.0</td>\n",
       "      <td>15000</td>\n",
       "      <td>True</td>\n",
       "      <td>Japan</td>\n",
       "      <td>normally used</td>\n",
       "    </tr>\n",
       "  </tbody>\n",
       "</table>\n",
       "</div>"
      ],
      "text/plain": [
       "    Type         Region    Make  Gear_Type Origin Options  Year  Engine_Size  \\\n",
       "0  Sedan  North America  Toyota  Automatic  Japan   Basic  2022          2.0   \n",
       "\n",
       "   Mileage  Negotiable Country_make      Condition  \n",
       "0    15000        True        Japan  normally used  "
      ]
     },
     "execution_count": 11,
     "metadata": {},
     "output_type": "execute_result"
    }
   ],
   "source": [
    "new_data_point = pd.DataFrame({\n",
    "    'Type': ['Sedan'],\n",
    "    'Region': ['North America'],\n",
    "    'Make': ['Toyota'],\n",
    "    'Gear_Type': ['Automatic'],\n",
    "    'Origin': ['Japan'],\n",
    "    'Options': ['Basic'],\n",
    "    'Year': [2022],\n",
    "    'Engine_Size': [2.0],\n",
    "    'Mileage': [15000],\n",
    "    'Negotiable': [True],\n",
    "    'Country_make': ['Japan'],\n",
    "    'Condition': ['normally used'],\n",
    "})\n",
    "\n",
    "new_data_point"
   ]
  },
  {
   "cell_type": "markdown",
   "metadata": {},
   "source": [
    "# Variable Need for Google Cloud (or You could just upload all of them to Github)"
   ]
  },
  {
   "cell_type": "code",
   "execution_count": 2,
   "metadata": {},
   "outputs": [],
   "source": [
    "#import google cloud library\n",
    "from google.cloud import bigquery\n",
    "from google.cloud import storage\n",
    "from google.cloud import aiplatform"
   ]
  },
  {
   "cell_type": "code",
   "execution_count": 3,
   "metadata": {},
   "outputs": [],
   "source": [
    "## set up authentication using services account \n",
    "import os\n",
    "# Authenticate using service account\n",
    "os.environ['GOOGLE_APPLICATION_CREDENTIALS'] = \"sa-development.json\"\n",
    "# os.environ['GOOGLE_APPLICATION_CREDENTIALS'] = \"../vertex-ai-ml/dti-ds-31329ac0651d.json\"\n",
    "\n",
    "project_id = 'dti-ds'\n",
    "dataset_id = 'azhary_dataset_018'\n",
    "table_id = 'batch_test'\n",
    "region = 'us-central1'\n",
    "bucket_name = 'azhary_gcs_018'\n",
    "blob_name = 'model/batch_test.csv'\n",
    "\n",
    "model_name = 'model_reg_Arab_Saudi_Usedcars.pkl'"
   ]
  },
  {
   "cell_type": "markdown",
   "metadata": {},
   "source": [
    "## Google Cloud Storage"
   ]
  },
  {
   "cell_type": "markdown",
   "metadata": {},
   "source": [
    "### Upload to Google Cloud Storage - skipped"
   ]
  },
  {
   "cell_type": "markdown",
   "metadata": {},
   "source": [
    "### Retrieve from Google Cloud Storage"
   ]
  },
  {
   "cell_type": "code",
   "execution_count": 4,
   "metadata": {},
   "outputs": [
    {
     "name": "stdout",
     "output_type": "stream",
     "text": [
      "Read model succeeded\n"
     ]
    }
   ],
   "source": [
    "# Retrieve the model from Google Cloud Storage\n",
    "try : \n",
    "    storage_client = storage.Client(project=project_id)\n",
    "    bucket = storage_client.get_bucket(bucket_name) # Add bucket name\n",
    "    blob_model = bucket.blob(f'model/{model_name}')\n",
    "    blob_model.download_to_filename('model_reg_Arab_Saudi_Usedcars.pkl')\n",
    "\n",
    "    print (\"Read model succeeded\")\n",
    "except:\n",
    "    raise TypeError(\"An exception occurred\")"
   ]
  },
  {
   "cell_type": "code",
   "execution_count": null,
   "metadata": {},
   "outputs": [],
   "source": [
    "# # Retrieve the dataset from Google Cloud Storage\n",
    "# try : \n",
    "#     storage_client = storage.Client(project=project_id)\n",
    "#     bucket = storage_client.get_bucket(bucket_name) # Add bucket name\n",
    "#     blob_model = bucket.blob(blob_name)\n",
    "#     blob_model.download_to_filename('car_insurance_real.csv')\n",
    "\n",
    "#     print (\"Read Data succeeded\")\n",
    "# except:\n",
    "#     raise TypeError(\"An exception occurred\")"
   ]
  },
  {
   "cell_type": "markdown",
   "metadata": {},
   "source": [
    "## Bigquery"
   ]
  },
  {
   "cell_type": "markdown",
   "metadata": {},
   "source": [
    "### Load from Bigquery"
   ]
  },
  {
   "cell_type": "code",
   "execution_count": 5,
   "metadata": {},
   "outputs": [
    {
     "name": "stderr",
     "output_type": "stream",
     "text": [
      "/home/azharyputeras/miniconda3/envs/arab_reg_env/lib/python3.11/site-packages/google/cloud/bigquery/table.py:1727: UserWarning: BigQuery Storage module not found, fetch data with the REST endpoint instead.\n",
      "  warnings.warn(\n"
     ]
    }
   ],
   "source": [
    "#load data from BQ\n",
    "from google.cloud import bigquery\n",
    "## using bigquery client \n",
    "# client = bigquery.Client(credentials=credentials,project=project_id)\n",
    "client = bigquery.Client(project=project_id)\n",
    "\n",
    "# query \n",
    "query_job = client.query(f\"\"\"select * from {dataset_id}.{table_id}\"\"\")\n",
    "batch_test = query_job.result().to_dataframe()\n",
    "\n",
    "# # df = df.loc[:, new_test_data.columns]\n",
    "# auto_cloud.columns = new_data_point.columns\n",
    "# #cleansing \n",
    "# # result = df.drop(['ID'], axis = 1)\n",
    "# auto_cloud"
   ]
  },
  {
   "cell_type": "code",
   "execution_count": 6,
   "metadata": {},
   "outputs": [
    {
     "data": {
      "text/html": [
       "<div>\n",
       "<style scoped>\n",
       "    .dataframe tbody tr th:only-of-type {\n",
       "        vertical-align: middle;\n",
       "    }\n",
       "\n",
       "    .dataframe tbody tr th {\n",
       "        vertical-align: top;\n",
       "    }\n",
       "\n",
       "    .dataframe thead th {\n",
       "        text-align: right;\n",
       "    }\n",
       "</style>\n",
       "<table border=\"1\" class=\"dataframe\">\n",
       "  <thead>\n",
       "    <tr style=\"text-align: right;\">\n",
       "      <th></th>\n",
       "      <th>Type</th>\n",
       "      <th>Region</th>\n",
       "      <th>Make</th>\n",
       "      <th>Gear_Type</th>\n",
       "      <th>Origin</th>\n",
       "      <th>Options</th>\n",
       "      <th>Year</th>\n",
       "      <th>Engine_Size</th>\n",
       "      <th>Mileage</th>\n",
       "      <th>Negotiable</th>\n",
       "      <th>Country_make</th>\n",
       "      <th>Condition</th>\n",
       "    </tr>\n",
       "  </thead>\n",
       "  <tbody>\n",
       "    <tr>\n",
       "      <th>0</th>\n",
       "      <td>RX8</td>\n",
       "      <td>Jeddah</td>\n",
       "      <td>MG</td>\n",
       "      <td>Automatic</td>\n",
       "      <td>Saudi</td>\n",
       "      <td>Semi Full</td>\n",
       "      <td>2020</td>\n",
       "      <td>2.0</td>\n",
       "      <td>19000</td>\n",
       "      <td>False</td>\n",
       "      <td>UK</td>\n",
       "      <td>seldomly used</td>\n",
       "    </tr>\n",
       "    <tr>\n",
       "      <th>1</th>\n",
       "      <td>X</td>\n",
       "      <td>Riyadh</td>\n",
       "      <td>BMW</td>\n",
       "      <td>Automatic</td>\n",
       "      <td>Other</td>\n",
       "      <td>Full</td>\n",
       "      <td>2011</td>\n",
       "      <td>3.0</td>\n",
       "      <td>290</td>\n",
       "      <td>False</td>\n",
       "      <td>Germany</td>\n",
       "      <td>seldomly used</td>\n",
       "    </tr>\n",
       "    <tr>\n",
       "      <th>2</th>\n",
       "      <td>X</td>\n",
       "      <td>Riyadh</td>\n",
       "      <td>BMW</td>\n",
       "      <td>Automatic</td>\n",
       "      <td>Saudi</td>\n",
       "      <td>Full</td>\n",
       "      <td>2015</td>\n",
       "      <td>3.0</td>\n",
       "      <td>98000</td>\n",
       "      <td>False</td>\n",
       "      <td>Germany</td>\n",
       "      <td>normally used</td>\n",
       "    </tr>\n",
       "    <tr>\n",
       "      <th>3</th>\n",
       "      <td>X</td>\n",
       "      <td>Dammam</td>\n",
       "      <td>BMW</td>\n",
       "      <td>Automatic</td>\n",
       "      <td>Gulf Arabic</td>\n",
       "      <td>Semi Full</td>\n",
       "      <td>2017</td>\n",
       "      <td>3.0</td>\n",
       "      <td>71000</td>\n",
       "      <td>False</td>\n",
       "      <td>Germany</td>\n",
       "      <td>normally used</td>\n",
       "    </tr>\n",
       "    <tr>\n",
       "      <th>4</th>\n",
       "      <td>X</td>\n",
       "      <td>Riyadh</td>\n",
       "      <td>BMW</td>\n",
       "      <td>Automatic</td>\n",
       "      <td>Gulf Arabic</td>\n",
       "      <td>Full</td>\n",
       "      <td>2016</td>\n",
       "      <td>3.0</td>\n",
       "      <td>130000</td>\n",
       "      <td>False</td>\n",
       "      <td>Germany</td>\n",
       "      <td>overly used</td>\n",
       "    </tr>\n",
       "  </tbody>\n",
       "</table>\n",
       "</div>"
      ],
      "text/plain": [
       "  Type  Region Make  Gear_Type       Origin    Options  Year  Engine_Size  \\\n",
       "0  RX8  Jeddah   MG  Automatic        Saudi  Semi Full  2020          2.0   \n",
       "1    X  Riyadh  BMW  Automatic        Other       Full  2011          3.0   \n",
       "2    X  Riyadh  BMW  Automatic        Saudi       Full  2015          3.0   \n",
       "3    X  Dammam  BMW  Automatic  Gulf Arabic  Semi Full  2017          3.0   \n",
       "4    X  Riyadh  BMW  Automatic  Gulf Arabic       Full  2016          3.0   \n",
       "\n",
       "   Mileage  Negotiable Country_make      Condition  \n",
       "0    19000       False           UK  seldomly used  \n",
       "1      290       False      Germany  seldomly used  \n",
       "2    98000       False      Germany  normally used  \n",
       "3    71000       False      Germany  normally used  \n",
       "4   130000       False      Germany    overly used  "
      ]
     },
     "execution_count": 6,
     "metadata": {},
     "output_type": "execute_result"
    }
   ],
   "source": [
    "batch_test.head()"
   ]
  },
  {
   "cell_type": "markdown",
   "metadata": {},
   "source": [
    "# Model Prediction"
   ]
  },
  {
   "cell_type": "markdown",
   "metadata": {},
   "source": [
    "## Cloud Data Prediction"
   ]
  },
  {
   "cell_type": "code",
   "execution_count": 16,
   "metadata": {},
   "outputs": [
    {
     "name": "stdout",
     "output_type": "stream",
     "text": [
      "Collecting category_encoders\n",
      "  Downloading category_encoders-2.6.3-py2.py3-none-any.whl.metadata (8.0 kB)\n",
      "Requirement already satisfied: numpy>=1.14.0 in /home/azharyputeras/miniconda3/envs/arab_reg_env/lib/python3.11/site-packages (from category_encoders) (1.25.2)\n",
      "Requirement already satisfied: scikit-learn>=0.20.0 in /home/azharyputeras/miniconda3/envs/arab_reg_env/lib/python3.11/site-packages (from category_encoders) (1.2.2)\n",
      "Requirement already satisfied: scipy>=1.0.0 in /home/azharyputeras/miniconda3/envs/arab_reg_env/lib/python3.11/site-packages (from category_encoders) (1.14.0)\n",
      "Collecting statsmodels>=0.9.0 (from category_encoders)\n",
      "  Downloading statsmodels-0.14.2-cp311-cp311-manylinux_2_17_x86_64.manylinux2014_x86_64.whl.metadata (9.2 kB)\n",
      "Requirement already satisfied: pandas>=1.0.5 in /home/azharyputeras/miniconda3/envs/arab_reg_env/lib/python3.11/site-packages (from category_encoders) (2.0.3)\n",
      "Collecting patsy>=0.5.1 (from category_encoders)\n",
      "  Downloading patsy-0.5.6-py2.py3-none-any.whl.metadata (3.5 kB)\n",
      "Requirement already satisfied: python-dateutil>=2.8.2 in /home/azharyputeras/miniconda3/envs/arab_reg_env/lib/python3.11/site-packages (from pandas>=1.0.5->category_encoders) (2.9.0.post0)\n",
      "Requirement already satisfied: pytz>=2020.1 in /home/azharyputeras/miniconda3/envs/arab_reg_env/lib/python3.11/site-packages (from pandas>=1.0.5->category_encoders) (2024.1)\n",
      "Requirement already satisfied: tzdata>=2022.1 in /home/azharyputeras/miniconda3/envs/arab_reg_env/lib/python3.11/site-packages (from pandas>=1.0.5->category_encoders) (2024.1)\n",
      "Requirement already satisfied: six in /home/azharyputeras/miniconda3/envs/arab_reg_env/lib/python3.11/site-packages (from patsy>=0.5.1->category_encoders) (1.16.0)\n",
      "Requirement already satisfied: joblib>=1.1.1 in /home/azharyputeras/miniconda3/envs/arab_reg_env/lib/python3.11/site-packages (from scikit-learn>=0.20.0->category_encoders) (1.4.2)\n",
      "Requirement already satisfied: threadpoolctl>=2.0.0 in /home/azharyputeras/miniconda3/envs/arab_reg_env/lib/python3.11/site-packages (from scikit-learn>=0.20.0->category_encoders) (3.5.0)\n",
      "Requirement already satisfied: packaging>=21.3 in /home/azharyputeras/miniconda3/envs/arab_reg_env/lib/python3.11/site-packages (from statsmodels>=0.9.0->category_encoders) (24.1)\n",
      "Downloading category_encoders-2.6.3-py2.py3-none-any.whl (81 kB)\n",
      "\u001b[2K   \u001b[90m━━━━━━━━━━━━━━━━━━━━━━━━━━━━━━━━━━━━━━━━\u001b[0m \u001b[32m81.9/81.9 kB\u001b[0m \u001b[31m562.9 kB/s\u001b[0m eta \u001b[36m0:00:00\u001b[0m\u001b[36m0:00:01\u001b[0m\n",
      "\u001b[?25hDownloading patsy-0.5.6-py2.py3-none-any.whl (233 kB)\n",
      "\u001b[2K   \u001b[90m━━━━━━━━━━━━━━━━━━━━━━━━━━━━━━━━━━━━━━━━\u001b[0m \u001b[32m233.9/233.9 kB\u001b[0m \u001b[31m12.7 MB/s\u001b[0m eta \u001b[36m0:00:00\u001b[0m\n",
      "\u001b[?25hDownloading statsmodels-0.14.2-cp311-cp311-manylinux_2_17_x86_64.manylinux2014_x86_64.whl (10.7 MB)\n",
      "\u001b[2K   \u001b[90m━━━━━━━━━━━━━━━━━━━━━━━━━━━━━━━━━━━━━━━━\u001b[0m \u001b[32m10.7/10.7 MB\u001b[0m \u001b[31m34.7 MB/s\u001b[0m eta \u001b[36m0:00:00\u001b[0m00:01\u001b[0m0:01\u001b[0mm\n",
      "\u001b[?25hInstalling collected packages: patsy, statsmodels, category_encoders\n",
      "Successfully installed category_encoders-2.6.3 patsy-0.5.6 statsmodels-0.14.2\n",
      "Note: you may need to restart the kernel to use updated packages.\n"
     ]
    }
   ],
   "source": [
    "pip install category_encoders"
   ]
  },
  {
   "cell_type": "code",
   "execution_count": 7,
   "metadata": {},
   "outputs": [],
   "source": [
    "# Load the model\n",
    "with open('model_reg_Arab_Saudi_Usedcars.pkl', 'rb') as f:\n",
    "    loaded_model = pickle.load(f)\n",
    "\n"
   ]
  },
  {
   "cell_type": "code",
   "execution_count": 8,
   "metadata": {},
   "outputs": [
    {
     "data": {
      "text/plain": [
       "array([43490.082], dtype=float32)"
      ]
     },
     "execution_count": 8,
     "metadata": {},
     "output_type": "execute_result"
    }
   ],
   "source": [
    "cheap_car = pd.DataFrame({\n",
    "    'Type': ['Grand Max'],\n",
    "    'Region': ['Sabya'],\n",
    "    'Make': ['Daihatsu'],\n",
    "    'Gear_Type': ['Manual'],\n",
    "    'Origin': ['Other'],\n",
    "    'Options': ['Semi Full'],\n",
    "    'Year': [2008],\n",
    "    'Engine_Size': [4.4],\n",
    "    'Mileage': [225000],\n",
    "    'Negotiable': [True],\n",
    "    'Country_make': ['Japan'],\n",
    "    'Condition': ['normally used']\n",
    "})\n",
    "\n",
    "\n",
    "y_pred_cloud_new_data = loaded_model.predict(cheap_car)\n",
    "y_pred_cloud_new_data_origin = np.expm1(y_pred_cloud_new_data)\n",
    "y_pred_cloud_new_data_origin"
   ]
  },
  {
   "cell_type": "code",
   "execution_count": 9,
   "metadata": {},
   "outputs": [
    {
     "data": {
      "text/plain": [
       "array([205550.88], dtype=float32)"
      ]
     },
     "execution_count": 9,
     "metadata": {},
     "output_type": "execute_result"
    }
   ],
   "source": [
    "expensive_car = pd.DataFrame({\n",
    "    'Type': ['Bentayga'],\n",
    "    'Region': ['Sakaka'],\n",
    "    'Make': ['Bentley'],\n",
    "    'Gear_Type': ['Automatic'],\n",
    "    'Origin': ['Saudi'],\n",
    "    'Options': ['Full'],\n",
    "    'Year': [2016],\n",
    "    'Engine_Size': [3.6],\n",
    "    'Mileage': [10000],\n",
    "    'Negotiable': [True],\n",
    "    'Country_make': ['UK'],\n",
    "    'Condition': ['seldomly used']\n",
    "})\n",
    "\n",
    "\n",
    "y_pred_cloud_new_data = loaded_model.predict(expensive_car)\n",
    "y_pred_cloud_new_data_origin = np.expm1(y_pred_cloud_new_data)\n",
    "y_pred_cloud_new_data_origin"
   ]
  },
  {
   "cell_type": "code",
   "execution_count": 10,
   "metadata": {},
   "outputs": [
    {
     "data": {
      "text/plain": [
       "(903,)"
      ]
     },
     "execution_count": 10,
     "metadata": {},
     "output_type": "execute_result"
    }
   ],
   "source": [
    "# Load the model\n",
    "with open('model_reg_Arab_Saudi_Usedcars.pkl', 'rb') as f:\n",
    "    loaded_model = pickle.load(f)\n",
    "\n",
    "y_pred = loaded_model.predict(batch_test)\n",
    "y_pred_origin = np.expm1(y_pred)\n",
    "y_pred_origin.shape"
   ]
  },
  {
   "cell_type": "code",
   "execution_count": 11,
   "metadata": {},
   "outputs": [
    {
     "data": {
      "text/html": [
       "<div>\n",
       "<style scoped>\n",
       "    .dataframe tbody tr th:only-of-type {\n",
       "        vertical-align: middle;\n",
       "    }\n",
       "\n",
       "    .dataframe tbody tr th {\n",
       "        vertical-align: top;\n",
       "    }\n",
       "\n",
       "    .dataframe thead th {\n",
       "        text-align: right;\n",
       "    }\n",
       "</style>\n",
       "<table border=\"1\" class=\"dataframe\">\n",
       "  <thead>\n",
       "    <tr style=\"text-align: right;\">\n",
       "      <th></th>\n",
       "      <th>Type</th>\n",
       "      <th>Region</th>\n",
       "      <th>Make</th>\n",
       "      <th>Gear_Type</th>\n",
       "      <th>Origin</th>\n",
       "      <th>Options</th>\n",
       "      <th>Year</th>\n",
       "      <th>Engine_Size</th>\n",
       "      <th>Mileage</th>\n",
       "      <th>Negotiable</th>\n",
       "      <th>Country_make</th>\n",
       "      <th>Condition</th>\n",
       "    </tr>\n",
       "  </thead>\n",
       "  <tbody>\n",
       "    <tr>\n",
       "      <th>0</th>\n",
       "      <td>RX8</td>\n",
       "      <td>Jeddah</td>\n",
       "      <td>MG</td>\n",
       "      <td>Automatic</td>\n",
       "      <td>Saudi</td>\n",
       "      <td>Semi Full</td>\n",
       "      <td>2020</td>\n",
       "      <td>2.0</td>\n",
       "      <td>19000</td>\n",
       "      <td>False</td>\n",
       "      <td>UK</td>\n",
       "      <td>seldomly used</td>\n",
       "    </tr>\n",
       "    <tr>\n",
       "      <th>1</th>\n",
       "      <td>X</td>\n",
       "      <td>Riyadh</td>\n",
       "      <td>BMW</td>\n",
       "      <td>Automatic</td>\n",
       "      <td>Other</td>\n",
       "      <td>Full</td>\n",
       "      <td>2011</td>\n",
       "      <td>3.0</td>\n",
       "      <td>290</td>\n",
       "      <td>False</td>\n",
       "      <td>Germany</td>\n",
       "      <td>seldomly used</td>\n",
       "    </tr>\n",
       "    <tr>\n",
       "      <th>2</th>\n",
       "      <td>X</td>\n",
       "      <td>Riyadh</td>\n",
       "      <td>BMW</td>\n",
       "      <td>Automatic</td>\n",
       "      <td>Saudi</td>\n",
       "      <td>Full</td>\n",
       "      <td>2015</td>\n",
       "      <td>3.0</td>\n",
       "      <td>98000</td>\n",
       "      <td>False</td>\n",
       "      <td>Germany</td>\n",
       "      <td>normally used</td>\n",
       "    </tr>\n",
       "    <tr>\n",
       "      <th>3</th>\n",
       "      <td>X</td>\n",
       "      <td>Dammam</td>\n",
       "      <td>BMW</td>\n",
       "      <td>Automatic</td>\n",
       "      <td>Gulf Arabic</td>\n",
       "      <td>Semi Full</td>\n",
       "      <td>2017</td>\n",
       "      <td>3.0</td>\n",
       "      <td>71000</td>\n",
       "      <td>False</td>\n",
       "      <td>Germany</td>\n",
       "      <td>normally used</td>\n",
       "    </tr>\n",
       "    <tr>\n",
       "      <th>4</th>\n",
       "      <td>X</td>\n",
       "      <td>Riyadh</td>\n",
       "      <td>BMW</td>\n",
       "      <td>Automatic</td>\n",
       "      <td>Gulf Arabic</td>\n",
       "      <td>Full</td>\n",
       "      <td>2016</td>\n",
       "      <td>3.0</td>\n",
       "      <td>130000</td>\n",
       "      <td>False</td>\n",
       "      <td>Germany</td>\n",
       "      <td>overly used</td>\n",
       "    </tr>\n",
       "  </tbody>\n",
       "</table>\n",
       "</div>"
      ],
      "text/plain": [
       "  Type  Region Make  Gear_Type       Origin    Options  Year  Engine_Size  \\\n",
       "0  RX8  Jeddah   MG  Automatic        Saudi  Semi Full  2020          2.0   \n",
       "1    X  Riyadh  BMW  Automatic        Other       Full  2011          3.0   \n",
       "2    X  Riyadh  BMW  Automatic        Saudi       Full  2015          3.0   \n",
       "3    X  Dammam  BMW  Automatic  Gulf Arabic  Semi Full  2017          3.0   \n",
       "4    X  Riyadh  BMW  Automatic  Gulf Arabic       Full  2016          3.0   \n",
       "\n",
       "   Mileage  Negotiable Country_make      Condition  \n",
       "0    19000       False           UK  seldomly used  \n",
       "1      290       False      Germany  seldomly used  \n",
       "2    98000       False      Germany  normally used  \n",
       "3    71000       False      Germany  normally used  \n",
       "4   130000       False      Germany    overly used  "
      ]
     },
     "execution_count": 11,
     "metadata": {},
     "output_type": "execute_result"
    }
   ],
   "source": [
    "batch_test.head()"
   ]
  },
  {
   "cell_type": "code",
   "execution_count": 12,
   "metadata": {},
   "outputs": [
    {
     "data": {
      "text/html": [
       "<div>\n",
       "<style scoped>\n",
       "    .dataframe tbody tr th:only-of-type {\n",
       "        vertical-align: middle;\n",
       "    }\n",
       "\n",
       "    .dataframe tbody tr th {\n",
       "        vertical-align: top;\n",
       "    }\n",
       "\n",
       "    .dataframe thead th {\n",
       "        text-align: right;\n",
       "    }\n",
       "</style>\n",
       "<table border=\"1\" class=\"dataframe\">\n",
       "  <thead>\n",
       "    <tr style=\"text-align: right;\">\n",
       "      <th></th>\n",
       "      <th>Type</th>\n",
       "      <th>Region</th>\n",
       "      <th>Make</th>\n",
       "      <th>Gear_Type</th>\n",
       "      <th>Origin</th>\n",
       "      <th>Options</th>\n",
       "      <th>Year</th>\n",
       "      <th>Engine_Size</th>\n",
       "      <th>Mileage</th>\n",
       "      <th>Negotiable</th>\n",
       "      <th>Country_make</th>\n",
       "      <th>Condition</th>\n",
       "      <th>price_pred</th>\n",
       "    </tr>\n",
       "  </thead>\n",
       "  <tbody>\n",
       "    <tr>\n",
       "      <th>0</th>\n",
       "      <td>RX8</td>\n",
       "      <td>Jeddah</td>\n",
       "      <td>MG</td>\n",
       "      <td>Automatic</td>\n",
       "      <td>Saudi</td>\n",
       "      <td>Semi Full</td>\n",
       "      <td>2020</td>\n",
       "      <td>2.0</td>\n",
       "      <td>19000</td>\n",
       "      <td>False</td>\n",
       "      <td>UK</td>\n",
       "      <td>seldomly used</td>\n",
       "      <td>88084.781250</td>\n",
       "    </tr>\n",
       "    <tr>\n",
       "      <th>1</th>\n",
       "      <td>X</td>\n",
       "      <td>Riyadh</td>\n",
       "      <td>BMW</td>\n",
       "      <td>Automatic</td>\n",
       "      <td>Other</td>\n",
       "      <td>Full</td>\n",
       "      <td>2011</td>\n",
       "      <td>3.0</td>\n",
       "      <td>290</td>\n",
       "      <td>False</td>\n",
       "      <td>Germany</td>\n",
       "      <td>seldomly used</td>\n",
       "      <td>62601.019531</td>\n",
       "    </tr>\n",
       "    <tr>\n",
       "      <th>2</th>\n",
       "      <td>X</td>\n",
       "      <td>Riyadh</td>\n",
       "      <td>BMW</td>\n",
       "      <td>Automatic</td>\n",
       "      <td>Saudi</td>\n",
       "      <td>Full</td>\n",
       "      <td>2015</td>\n",
       "      <td>3.0</td>\n",
       "      <td>98000</td>\n",
       "      <td>False</td>\n",
       "      <td>Germany</td>\n",
       "      <td>normally used</td>\n",
       "      <td>125612.125000</td>\n",
       "    </tr>\n",
       "    <tr>\n",
       "      <th>3</th>\n",
       "      <td>X</td>\n",
       "      <td>Dammam</td>\n",
       "      <td>BMW</td>\n",
       "      <td>Automatic</td>\n",
       "      <td>Gulf Arabic</td>\n",
       "      <td>Semi Full</td>\n",
       "      <td>2017</td>\n",
       "      <td>3.0</td>\n",
       "      <td>71000</td>\n",
       "      <td>False</td>\n",
       "      <td>Germany</td>\n",
       "      <td>normally used</td>\n",
       "      <td>174006.968750</td>\n",
       "    </tr>\n",
       "    <tr>\n",
       "      <th>4</th>\n",
       "      <td>X</td>\n",
       "      <td>Riyadh</td>\n",
       "      <td>BMW</td>\n",
       "      <td>Automatic</td>\n",
       "      <td>Gulf Arabic</td>\n",
       "      <td>Full</td>\n",
       "      <td>2016</td>\n",
       "      <td>3.0</td>\n",
       "      <td>130000</td>\n",
       "      <td>False</td>\n",
       "      <td>Germany</td>\n",
       "      <td>overly used</td>\n",
       "      <td>144210.187500</td>\n",
       "    </tr>\n",
       "  </tbody>\n",
       "</table>\n",
       "</div>"
      ],
      "text/plain": [
       "  Type  Region Make  Gear_Type       Origin    Options  Year  Engine_Size  \\\n",
       "0  RX8  Jeddah   MG  Automatic        Saudi  Semi Full  2020          2.0   \n",
       "1    X  Riyadh  BMW  Automatic        Other       Full  2011          3.0   \n",
       "2    X  Riyadh  BMW  Automatic        Saudi       Full  2015          3.0   \n",
       "3    X  Dammam  BMW  Automatic  Gulf Arabic  Semi Full  2017          3.0   \n",
       "4    X  Riyadh  BMW  Automatic  Gulf Arabic       Full  2016          3.0   \n",
       "\n",
       "   Mileage  Negotiable Country_make      Condition     price_pred  \n",
       "0    19000       False           UK  seldomly used   88084.781250  \n",
       "1      290       False      Germany  seldomly used   62601.019531  \n",
       "2    98000       False      Germany  normally used  125612.125000  \n",
       "3    71000       False      Germany  normally used  174006.968750  \n",
       "4   130000       False      Germany    overly used  144210.187500  "
      ]
     },
     "execution_count": 12,
     "metadata": {},
     "output_type": "execute_result"
    }
   ],
   "source": [
    "batch_test['price_pred']=y_pred_origin\n",
    "batch_test.head()"
   ]
  },
  {
   "cell_type": "code",
   "execution_count": 13,
   "metadata": {},
   "outputs": [
    {
     "name": "stdout",
     "output_type": "stream",
     "text": [
      "Loaded 903 rows into dti-ds.azhary_dataset_018.batch_test_predicted2\n"
     ]
    }
   ],
   "source": [
    "from google.cloud import bigquery\n",
    "\n",
    "table_id = 'batch_test_predicted2'\n",
    "\n",
    "# Construct a bigquery client object\n",
    "client = bigquery.Client()\n",
    "\n",
    "# define the full table id\n",
    "table_full_id = f\"{client.project}.{dataset_id}.{table_id}\"\n",
    "\n",
    "batch_test.columns = ['_'.join(i.split(' ')) for i in batch_test.columns]\n",
    "\n",
    "job = client.load_table_from_dataframe(batch_test,table_full_id)\n",
    "\n",
    "job.result()\n",
    "print(f\"Loaded {job.output_rows} rows into {table_full_id}\")"
   ]
  },
  {
   "cell_type": "code",
   "execution_count": 26,
   "metadata": {},
   "outputs": [
    {
     "data": {
      "text/plain": [
       "array([ 5625.1167, 19218.45  ], dtype=float32)"
      ]
     },
     "execution_count": 26,
     "metadata": {},
     "output_type": "execute_result"
    }
   ],
   "source": [
    "# # loaded_model.predict(X_test.iloc[3:13])\n",
    "# y_pred_file_cloud = loaded_model.predict(auto_cloud)\n",
    "# y_pred_file_cloud[:13]"
   ]
  },
  {
   "cell_type": "code",
   "execution_count": null,
   "metadata": {},
   "outputs": [],
   "source": [
    "# auto_cloud['CLV Prediction'] = y_pred_file_cloud\n",
    "# auto_cloud"
   ]
  },
  {
   "cell_type": "markdown",
   "metadata": {},
   "source": [
    "---\n",
    "<center>Thank You</center>\n",
    "\n",
    "---"
   ]
  }
 ],
 "metadata": {
  "kernelspec": {
   "display_name": "venv_dti",
   "language": "python",
   "name": "python3"
  },
  "language_info": {
   "codemirror_mode": {
    "name": "ipython",
    "version": 3
   },
   "file_extension": ".py",
   "mimetype": "text/x-python",
   "name": "python",
   "nbconvert_exporter": "python",
   "pygments_lexer": "ipython3",
   "version": "3.11.9"
  }
 },
 "nbformat": 4,
 "nbformat_minor": 2
}
